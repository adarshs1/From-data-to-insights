{
 "cells": [
  {
   "cell_type": "markdown",
   "metadata": {},
   "source": [
    "This iPython Notebook serves as the python code for all the data wrangling, exploratory data analysis as well as data visualization performed for the project \"Vehicular Crash Analysis - Prediciting Accident Severity and Crash frequency in Washington D.C.\"by Adarsh, Isha and Kuhu. The visualizations as well as the insights generated from our conducted data analysis can be seen here."
   ]
  },
  {
   "cell_type": "code",
   "execution_count": 1,
   "metadata": {
    "collapsed": true
   },
   "outputs": [],
   "source": [
    "import pandas as pd"
   ]
  },
  {
   "cell_type": "code",
   "execution_count": 2,
   "metadata": {
    "collapsed": true
   },
   "outputs": [],
   "source": [
    "import numpy as np"
   ]
  },
  {
   "cell_type": "code",
   "execution_count": 3,
   "metadata": {
    "collapsed": true
   },
   "outputs": [],
   "source": [
    "import matplotlib.pyplot as plt"
   ]
  },
  {
   "cell_type": "code",
   "execution_count": 4,
   "metadata": {
    "collapsed": true
   },
   "outputs": [],
   "source": [
    "import seaborn as sns"
   ]
  },
  {
   "cell_type": "code",
   "execution_count": 5,
   "metadata": {
    "collapsed": true
   },
   "outputs": [],
   "source": [
    "import datetime as dt"
   ]
  },
  {
   "cell_type": "code",
   "execution_count": 6,
   "metadata": {
    "collapsed": true
   },
   "outputs": [],
   "source": [
    "%matplotlib inline"
   ]
  },
  {
   "cell_type": "code",
   "execution_count": 7,
   "metadata": {
    "collapsed": false
   },
   "outputs": [
    {
     "name": "stderr",
     "output_type": "stream",
     "text": [
      "//anaconda/lib/python3.5/site-packages/IPython/core/interactiveshell.py:2723: DtypeWarning: Columns (75) have mixed types. Specify dtype option on import or set low_memory=False.\n",
      "  interactivity=interactivity, compiler=compiler, result=result)\n"
     ]
    }
   ],
   "source": [
    "df=pd.read_csv('/Users/Adiii/Documents/Fall 2016/INFM 750/Project/Filtered_dataset.csv', encoding= \"ISO-8859-1\")"
   ]
  },
  {
   "cell_type": "code",
   "execution_count": 8,
   "metadata": {
    "collapsed": false
   },
   "outputs": [
    {
     "data": {
      "text/html": [
       "<div>\n",
       "<table border=\"1\" class=\"dataframe\">\n",
       "  <thead>\n",
       "    <tr style=\"text-align: right;\">\n",
       "      <th></th>\n",
       "      <th>¥éËX</th>\n",
       "      <th>Y</th>\n",
       "      <th>OBJECTID</th>\n",
       "      <th>COMPLAINTNUMBER</th>\n",
       "      <th>ACCIDENTDATE</th>\n",
       "      <th>YEAR</th>\n",
       "      <th>DATEENTERED</th>\n",
       "      <th>MILITARYTIME_NEW</th>\n",
       "      <th>MILITARYTIME_CONVERT</th>\n",
       "      <th>MILITARYTIME</th>\n",
       "      <th>...</th>\n",
       "      <th>REVISED_QUADRANT</th>\n",
       "      <th>RECORDREMA</th>\n",
       "      <th>LASTUPDATE</th>\n",
       "      <th>ENTEREDBY</th>\n",
       "      <th>LATITUDE</th>\n",
       "      <th>LONGITUDE</th>\n",
       "      <th>IMPAIRMENT</th>\n",
       "      <th>STREETSEGID</th>\n",
       "      <th>TAXIINVOLVED</th>\n",
       "      <th>TOURBUSINVOLVED</th>\n",
       "    </tr>\n",
       "  </thead>\n",
       "  <tbody>\n",
       "    <tr>\n",
       "      <th>0</th>\n",
       "      <td>-77.072363</td>\n",
       "      <td>38.921187</td>\n",
       "      <td>3607</td>\n",
       "      <td>11124907</td>\n",
       "      <td>26-Aug-11</td>\n",
       "      <td>2011</td>\n",
       "      <td>3-Sep-11</td>\n",
       "      <td>16:45</td>\n",
       "      <td>1645</td>\n",
       "      <td>1645</td>\n",
       "      <td>...</td>\n",
       "      <td>1</td>\n",
       "      <td>NEW,LVL:1</td>\n",
       "      <td>3-Sep-11</td>\n",
       "      <td>MPD</td>\n",
       "      <td>38.921179</td>\n",
       "      <td>-77.072361</td>\n",
       "      <td>NaN</td>\n",
       "      <td>7692</td>\n",
       "      <td>NaN</td>\n",
       "      <td>NaN</td>\n",
       "    </tr>\n",
       "    <tr>\n",
       "      <th>1</th>\n",
       "      <td>-77.072363</td>\n",
       "      <td>38.921187</td>\n",
       "      <td>3609</td>\n",
       "      <td>14158068</td>\n",
       "      <td>14-Oct-14</td>\n",
       "      <td>2014</td>\n",
       "      <td>24-Dec-14</td>\n",
       "      <td>09:01</td>\n",
       "      <td>901</td>\n",
       "      <td>901</td>\n",
       "      <td>...</td>\n",
       "      <td>1</td>\n",
       "      <td>NEW,LVL:2</td>\n",
       "      <td>24-Dec-14</td>\n",
       "      <td>MPD</td>\n",
       "      <td>38.921179</td>\n",
       "      <td>-77.072361</td>\n",
       "      <td>NaN</td>\n",
       "      <td>7692</td>\n",
       "      <td>NaN</td>\n",
       "      <td>NaN</td>\n",
       "    </tr>\n",
       "    <tr>\n",
       "      <th>2</th>\n",
       "      <td>-77.073146</td>\n",
       "      <td>38.929170</td>\n",
       "      <td>3610</td>\n",
       "      <td>10024826</td>\n",
       "      <td>26-Feb-10</td>\n",
       "      <td>2010</td>\n",
       "      <td>7-Jul-10</td>\n",
       "      <td>21:46</td>\n",
       "      <td>2146</td>\n",
       "      <td>2146</td>\n",
       "      <td>...</td>\n",
       "      <td>1</td>\n",
       "      <td>NEW,LVL:2</td>\n",
       "      <td>7-Jul-10</td>\n",
       "      <td>MPD</td>\n",
       "      <td>38.929162</td>\n",
       "      <td>-77.073143</td>\n",
       "      <td>NaN</td>\n",
       "      <td>6434</td>\n",
       "      <td>NaN</td>\n",
       "      <td>NaN</td>\n",
       "    </tr>\n",
       "    <tr>\n",
       "      <th>3</th>\n",
       "      <td>-77.072912</td>\n",
       "      <td>38.922548</td>\n",
       "      <td>3611</td>\n",
       "      <td>10175486</td>\n",
       "      <td>4-Dec-10</td>\n",
       "      <td>2010</td>\n",
       "      <td>6-Dec-10</td>\n",
       "      <td>22:01</td>\n",
       "      <td>2201</td>\n",
       "      <td>2201</td>\n",
       "      <td>...</td>\n",
       "      <td>1</td>\n",
       "      <td>NEW,LVL:1</td>\n",
       "      <td>6-Dec-10</td>\n",
       "      <td>MPD</td>\n",
       "      <td>38.922540</td>\n",
       "      <td>-77.072910</td>\n",
       "      <td>NaN</td>\n",
       "      <td>7692</td>\n",
       "      <td>NaN</td>\n",
       "      <td>NaN</td>\n",
       "    </tr>\n",
       "    <tr>\n",
       "      <th>4</th>\n",
       "      <td>-77.072912</td>\n",
       "      <td>38.922548</td>\n",
       "      <td>3612</td>\n",
       "      <td>11008198</td>\n",
       "      <td>19-Jan-11</td>\n",
       "      <td>2011</td>\n",
       "      <td>12-Mar-12</td>\n",
       "      <td>11:35</td>\n",
       "      <td>1135</td>\n",
       "      <td>1135</td>\n",
       "      <td>...</td>\n",
       "      <td>1</td>\n",
       "      <td>NEW,LVL:2</td>\n",
       "      <td>12-Mar-12</td>\n",
       "      <td>MPD</td>\n",
       "      <td>38.922540</td>\n",
       "      <td>-77.072910</td>\n",
       "      <td>NaN</td>\n",
       "      <td>7692</td>\n",
       "      <td>NaN</td>\n",
       "      <td>NaN</td>\n",
       "    </tr>\n",
       "  </tbody>\n",
       "</table>\n",
       "<p>5 rows × 76 columns</p>\n",
       "</div>"
      ],
      "text/plain": [
       "        ¥éËX          Y  OBJECTID  COMPLAINTNUMBER ACCIDENTDATE  YEAR  \\\n",
       "0 -77.072363  38.921187      3607         11124907    26-Aug-11  2011   \n",
       "1 -77.072363  38.921187      3609         14158068    14-Oct-14  2014   \n",
       "2 -77.073146  38.929170      3610         10024826    26-Feb-10  2010   \n",
       "3 -77.072912  38.922548      3611         10175486     4-Dec-10  2010   \n",
       "4 -77.072912  38.922548      3612         11008198    19-Jan-11  2011   \n",
       "\n",
       "  DATEENTERED MILITARYTIME_NEW  MILITARYTIME_CONVERT  MILITARYTIME  \\\n",
       "0    3-Sep-11            16:45                  1645          1645   \n",
       "1   24-Dec-14            09:01                   901           901   \n",
       "2    7-Jul-10            21:46                  2146          2146   \n",
       "3    6-Dec-10            22:01                  2201          2201   \n",
       "4   12-Mar-12            11:35                  1135          1135   \n",
       "\n",
       "        ...        REVISED_QUADRANT RECORDREMA LASTUPDATE ENTEREDBY  \\\n",
       "0       ...                       1  NEW,LVL:1   3-Sep-11       MPD   \n",
       "1       ...                       1  NEW,LVL:2  24-Dec-14       MPD   \n",
       "2       ...                       1  NEW,LVL:2   7-Jul-10       MPD   \n",
       "3       ...                       1  NEW,LVL:1   6-Dec-10       MPD   \n",
       "4       ...                       1  NEW,LVL:2  12-Mar-12       MPD   \n",
       "\n",
       "    LATITUDE  LONGITUDE IMPAIRMENT  STREETSEGID  TAXIINVOLVED  TOURBUSINVOLVED  \n",
       "0  38.921179 -77.072361        NaN         7692           NaN              NaN  \n",
       "1  38.921179 -77.072361        NaN         7692           NaN              NaN  \n",
       "2  38.929162 -77.073143        NaN         6434           NaN              NaN  \n",
       "3  38.922540 -77.072910        NaN         7692           NaN              NaN  \n",
       "4  38.922540 -77.072910        NaN         7692           NaN              NaN  \n",
       "\n",
       "[5 rows x 76 columns]"
      ]
     },
     "execution_count": 8,
     "metadata": {},
     "output_type": "execute_result"
    }
   ],
   "source": [
    "df.head()"
   ]
  },
  {
   "cell_type": "code",
   "execution_count": 9,
   "metadata": {
    "collapsed": false
   },
   "outputs": [],
   "source": [
    "del df['¥éËX']"
   ]
  },
  {
   "cell_type": "code",
   "execution_count": 10,
   "metadata": {
    "collapsed": false
   },
   "outputs": [],
   "source": [
    "del df['Y']\n",
    "del df['RECORDREMA']"
   ]
  },
  {
   "cell_type": "code",
   "execution_count": 11,
   "metadata": {
    "collapsed": false
   },
   "outputs": [
    {
     "name": "stdout",
     "output_type": "stream",
     "text": [
      "<class 'pandas.core.frame.DataFrame'>\n",
      "RangeIndex: 68948 entries, 0 to 68947\n",
      "Data columns (total 73 columns):\n",
      "OBJECTID                68948 non-null int64\n",
      "COMPLAINTNUMBER         68948 non-null int64\n",
      "ACCIDENTDATE            68948 non-null object\n",
      "YEAR                    68948 non-null int64\n",
      "DATEENTERED             68948 non-null object\n",
      "MILITARYTIME_NEW        68948 non-null object\n",
      "MILITARYTIME_CONVERT    68948 non-null int64\n",
      "MILITARYTIME            68948 non-null int64\n",
      "DAYOFWEEK               68948 non-null object\n",
      "REPORTDATE              68948 non-null object\n",
      "ACCIDENTTYPE            68948 non-null object\n",
      "ACCIDENTTYPE_1          68948 non-null object\n",
      "ACCIDENTOCCURED         68948 non-null object\n",
      "ADDRESSBLOCK            68948 non-null int64\n",
      "DISTRICT                68948 non-null object\n",
      "RAPSA                   68948 non-null int64\n",
      "NUMINVOLVED             68948 non-null int64\n",
      "NUMINJURED              68948 non-null int64\n",
      "NUMFATALITIES           68948 non-null int64\n",
      "FEETFROMINTERSECTION    68948 non-null int64\n",
      "DIRECTIONFROMINT        68948 non-null object\n",
      "OBJECTNAME              68942 non-null object\n",
      "LOCRAMP                 61792 non-null object\n",
      "LOCBRIDGE               68948 non-null object\n",
      "LOCTUNNEL               68948 non-null object\n",
      "CITYQUADRANT            68948 non-null object\n",
      "CONSTRUCTION            68948 non-null object\n",
      "ONSTREET                66701 non-null object\n",
      "OFFSTREET               21510 non-null object\n",
      "REPORTEDON              68948 non-null object\n",
      "ISPHOTOTAKEN            68948 non-null object\n",
      "NUMPHOTOS               68948 non-null int64\n",
      "COLLISIONTYPE           68948 non-null object\n",
      "ROADSURFACE             68948 non-null object\n",
      "ROADTYPE                68948 non-null object\n",
      "ROADCONDITION           68948 non-null object\n",
      "STREETLIGHT             68948 non-null object\n",
      "LIGHTCONDITION          68948 non-null object\n",
      "WEATHER                 68948 non-null object\n",
      "TRAFFICCONDITION        68948 non-null object\n",
      "ROADWAYTYPE             68948 non-null object\n",
      "TRAFFICCONTROL          68948 non-null object\n",
      "PEDESTRIANACTION        14320 non-null object\n",
      "PEDESTRIANCLOTHING      68948 non-null object\n",
      "MPDLOCATION             68947 non-null object\n",
      "MPDLOCINTERSECTION      68313 non-null object\n",
      "CRASHDURATION           68948 non-null int64\n",
      "MAINSTREET              68948 non-null int64\n",
      "INTERSTREET             68948 non-null int64\n",
      "INTGISID                68948 non-null int64\n",
      "INJURYDISABLED          68948 non-null int64\n",
      "INJURYNONDISABLED       68948 non-null int64\n",
      "INJURYOTHER             68948 non-null int64\n",
      "NUMCMV_TRUCK            68948 non-null int64\n",
      "NUMCMV_BUS              68948 non-null int64\n",
      "NUMPEDINVOLVE           68948 non-null int64\n",
      "NUMPRN_BIKE             68948 non-null int64\n",
      "NUMPRN_MOTORCYCLE       68948 non-null int64\n",
      "NUMVEH_BIKE             68948 non-null int64\n",
      "NUMVEH_MOTORCYCLE       68948 non-null int64\n",
      "NUMPERSONI              68948 non-null int64\n",
      "NUMPEDFATALITY          68948 non-null int64\n",
      "FBIBOOL                 68948 non-null object\n",
      "REVISED_AC              68948 non-null object\n",
      "REVISED_QUADRANT        68948 non-null int64\n",
      "LASTUPDATE              68948 non-null object\n",
      "ENTEREDBY               68948 non-null object\n",
      "LATITUDE                68948 non-null float64\n",
      "LONGITUDE               68948 non-null float64\n",
      "IMPAIRMENT              778 non-null object\n",
      "STREETSEGID             68948 non-null int64\n",
      "TAXIINVOLVED            1418 non-null object\n",
      "TOURBUSINVOLVED         20 non-null object\n",
      "dtypes: float64(2), int64(30), object(41)\n",
      "memory usage: 38.4+ MB\n"
     ]
    }
   ],
   "source": [
    "df.info()"
   ]
  },
  {
   "cell_type": "code",
   "execution_count": 12,
   "metadata": {
    "collapsed": false
   },
   "outputs": [
    {
     "data": {
      "text/plain": [
       "<matplotlib.axes._subplots.AxesSubplot at 0x1196b9438>"
      ]
     },
     "execution_count": 12,
     "metadata": {},
     "output_type": "execute_result"
    },
    {
     "data": {
      "image/png": "[encoded data removed]",
      "text/plain": [
       "<matplotlib.figure.Figure at 0x119c0f7b8>"
      ]
     },
     "metadata": {},
     "output_type": "display_data"
    }
   ],
   "source": [
    "df['DAYOFWEEK'].value_counts().plot()"
   ]
  },
  {
   "cell_type": "code",
   "execution_count": 13,
   "metadata": {
    "collapsed": false
   },
   "outputs": [
    {
     "data": {
      "text/plain": [
       "<matplotlib.axes._subplots.AxesSubplot at 0x119782b00>"
      ]
     },
     "execution_count": 13,
     "metadata": {},
     "output_type": "execute_result"
    },
    {
     "data": {
      "image/png": "[encoded data removed]",
      "text/plain": [
       "<matplotlib.figure.Figure at 0x11978e438>"
      ]
     },
     "metadata": {},
     "output_type": "display_data"
    }
   ],
   "source": [
    "df['DAYOFWEEK'].value_counts().sort_values(ascending=False).plot('bar')"
   ]
  },
  {
   "cell_type": "code",
   "execution_count": 14,
   "metadata": {
    "collapsed": false,
    "scrolled": true
   },
   "outputs": [
    {
     "data": {
      "text/plain": [
       "<matplotlib.axes._subplots.AxesSubplot at 0x119ae1080>"
      ]
     },
     "execution_count": 14,
     "metadata": {},
     "output_type": "execute_result"
    },
    {
     "data": {
      "image/png": "[encoded data removed]",
      "text/plain": [
       "<matplotlib.figure.Figure at 0x119b37f60>"
      ]
     },
     "metadata": {},
     "output_type": "display_data"
    }
   ],
   "source": [
    "df['STREETLIGHT'].value_counts().plot('bar')"
   ]
  },
  {
   "cell_type": "code",
   "execution_count": 42,
   "metadata": {
    "collapsed": false
   },
   "outputs": [
    {
     "data": {
      "image/png": "[encoded data removed]",
      "text/plain": [
       "<matplotlib.figure.Figure at 0x11f6b3fd0>"
      ]
     },
     "metadata": {},
     "output_type": "display_data"
    }
   ],
   "source": [
    "ax=sns.countplot(x=\"YEAR\", data=df)"
   ]
  },
  {
   "cell_type": "code",
   "execution_count": 15,
   "metadata": {
    "collapsed": false
   },
   "outputs": [
    {
     "data": {
      "image/png": "[encoded data removed]",
      "text/plain": [
       "<matplotlib.figure.Figure at 0x1196b9390>"
      ]
     },
     "metadata": {},
     "output_type": "display_data"
    }
   ],
   "source": [
    "ax = sns.countplot(x=\"DAYOFWEEK\", data=df)"
   ]
  },
  {
   "cell_type": "code",
   "execution_count": null,
   "metadata": {
    "collapsed": false
   },
   "outputs": [],
   "source": []
  },
  {
   "cell_type": "code",
   "execution_count": 16,
   "metadata": {
    "collapsed": false,
    "scrolled": true
   },
   "outputs": [
    {
     "data": {
      "image/png": "[encoded data removed]",
      "text/plain": [
       "<matplotlib.figure.Figure at 0x11a3a2160>"
      ]
     },
     "metadata": {},
     "output_type": "display_data"
    }
   ],
   "source": [
    "ax= sns.countplot(x='TRAFFICCONDITION', data=df[df.DAYOFWEEK=='Friday'])"
   ]
  },
  {
   "cell_type": "code",
   "execution_count": null,
   "metadata": {
    "collapsed": false
   },
   "outputs": [],
   "source": []
  },
  {
   "cell_type": "code",
   "execution_count": null,
   "metadata": {
    "collapsed": false
   },
   "outputs": [],
   "source": []
  },
  {
   "cell_type": "code",
   "execution_count": 17,
   "metadata": {
    "collapsed": false
   },
   "outputs": [
    {
     "data": {
      "image/png": "[encoded data removed]",
      "text/plain": [
       "<matplotlib.figure.Figure at 0x11b52a668>"
      ]
     },
     "metadata": {},
     "output_type": "display_data"
    }
   ],
   "source": [
    "ax=sns.countplot(y=\"ROADSURFACE\", hue=\"ACCIDENTTYPE\", data=df)"
   ]
  },
  {
   "cell_type": "code",
   "execution_count": null,
   "metadata": {
    "collapsed": false
   },
   "outputs": [],
   "source": []
  },
  {
   "cell_type": "code",
   "execution_count": 18,
   "metadata": {
    "collapsed": true
   },
   "outputs": [],
   "source": [
    "df['MILITARYTIME_NEW']=pd.to_datetime(df['MILITARYTIME_NEW'])"
   ]
  },
  {
   "cell_type": "code",
   "execution_count": 19,
   "metadata": {
    "collapsed": false
   },
   "outputs": [],
   "source": [
    "df['MILITARYTIME_NEW_HOUR'] = df['MILITARYTIME_NEW'].apply(lambda x: x.hour)"
   ]
  },
  {
   "cell_type": "code",
   "execution_count": 20,
   "metadata": {
    "collapsed": false
   },
   "outputs": [
    {
     "data": {
      "text/html": [
       "<div>\n",
       "<table border=\"1\" class=\"dataframe\">\n",
       "  <thead>\n",
       "    <tr style=\"text-align: right;\">\n",
       "      <th></th>\n",
       "      <th>OBJECTID</th>\n",
       "      <th>COMPLAINTNUMBER</th>\n",
       "      <th>ACCIDENTDATE</th>\n",
       "      <th>YEAR</th>\n",
       "      <th>DATEENTERED</th>\n",
       "      <th>MILITARYTIME_NEW</th>\n",
       "      <th>MILITARYTIME_CONVERT</th>\n",
       "      <th>MILITARYTIME</th>\n",
       "      <th>DAYOFWEEK</th>\n",
       "      <th>REPORTDATE</th>\n",
       "      <th>...</th>\n",
       "      <th>REVISED_QUADRANT</th>\n",
       "      <th>LASTUPDATE</th>\n",
       "      <th>ENTEREDBY</th>\n",
       "      <th>LATITUDE</th>\n",
       "      <th>LONGITUDE</th>\n",
       "      <th>IMPAIRMENT</th>\n",
       "      <th>STREETSEGID</th>\n",
       "      <th>TAXIINVOLVED</th>\n",
       "      <th>TOURBUSINVOLVED</th>\n",
       "      <th>MILITARYTIME_NEW_HOUR</th>\n",
       "    </tr>\n",
       "  </thead>\n",
       "  <tbody>\n",
       "    <tr>\n",
       "      <th>0</th>\n",
       "      <td>3607</td>\n",
       "      <td>11124907</td>\n",
       "      <td>26-Aug-11</td>\n",
       "      <td>2011</td>\n",
       "      <td>3-Sep-11</td>\n",
       "      <td>2016-10-16 16:45:00</td>\n",
       "      <td>1645</td>\n",
       "      <td>1645</td>\n",
       "      <td>Friday</td>\n",
       "      <td>26-Aug-11</td>\n",
       "      <td>...</td>\n",
       "      <td>1</td>\n",
       "      <td>3-Sep-11</td>\n",
       "      <td>MPD</td>\n",
       "      <td>38.921179</td>\n",
       "      <td>-77.072361</td>\n",
       "      <td>NaN</td>\n",
       "      <td>7692</td>\n",
       "      <td>NaN</td>\n",
       "      <td>NaN</td>\n",
       "      <td>16</td>\n",
       "    </tr>\n",
       "    <tr>\n",
       "      <th>1</th>\n",
       "      <td>3609</td>\n",
       "      <td>14158068</td>\n",
       "      <td>14-Oct-14</td>\n",
       "      <td>2014</td>\n",
       "      <td>24-Dec-14</td>\n",
       "      <td>2016-10-16 09:01:00</td>\n",
       "      <td>901</td>\n",
       "      <td>901</td>\n",
       "      <td>Tuesday</td>\n",
       "      <td>14-Oct-14</td>\n",
       "      <td>...</td>\n",
       "      <td>1</td>\n",
       "      <td>24-Dec-14</td>\n",
       "      <td>MPD</td>\n",
       "      <td>38.921179</td>\n",
       "      <td>-77.072361</td>\n",
       "      <td>NaN</td>\n",
       "      <td>7692</td>\n",
       "      <td>NaN</td>\n",
       "      <td>NaN</td>\n",
       "      <td>9</td>\n",
       "    </tr>\n",
       "    <tr>\n",
       "      <th>2</th>\n",
       "      <td>3610</td>\n",
       "      <td>10024826</td>\n",
       "      <td>26-Feb-10</td>\n",
       "      <td>2010</td>\n",
       "      <td>7-Jul-10</td>\n",
       "      <td>2016-10-16 21:46:00</td>\n",
       "      <td>2146</td>\n",
       "      <td>2146</td>\n",
       "      <td>Friday</td>\n",
       "      <td>26-Feb-10</td>\n",
       "      <td>...</td>\n",
       "      <td>1</td>\n",
       "      <td>7-Jul-10</td>\n",
       "      <td>MPD</td>\n",
       "      <td>38.929162</td>\n",
       "      <td>-77.073143</td>\n",
       "      <td>NaN</td>\n",
       "      <td>6434</td>\n",
       "      <td>NaN</td>\n",
       "      <td>NaN</td>\n",
       "      <td>21</td>\n",
       "    </tr>\n",
       "    <tr>\n",
       "      <th>3</th>\n",
       "      <td>3611</td>\n",
       "      <td>10175486</td>\n",
       "      <td>4-Dec-10</td>\n",
       "      <td>2010</td>\n",
       "      <td>6-Dec-10</td>\n",
       "      <td>2016-10-16 22:01:00</td>\n",
       "      <td>2201</td>\n",
       "      <td>2201</td>\n",
       "      <td>Saturday</td>\n",
       "      <td>5-Dec-10</td>\n",
       "      <td>...</td>\n",
       "      <td>1</td>\n",
       "      <td>6-Dec-10</td>\n",
       "      <td>MPD</td>\n",
       "      <td>38.922540</td>\n",
       "      <td>-77.072910</td>\n",
       "      <td>NaN</td>\n",
       "      <td>7692</td>\n",
       "      <td>NaN</td>\n",
       "      <td>NaN</td>\n",
       "      <td>22</td>\n",
       "    </tr>\n",
       "    <tr>\n",
       "      <th>4</th>\n",
       "      <td>3612</td>\n",
       "      <td>11008198</td>\n",
       "      <td>19-Jan-11</td>\n",
       "      <td>2011</td>\n",
       "      <td>12-Mar-12</td>\n",
       "      <td>2016-10-16 11:35:00</td>\n",
       "      <td>1135</td>\n",
       "      <td>1135</td>\n",
       "      <td>Wednesday</td>\n",
       "      <td>19-Jan-11</td>\n",
       "      <td>...</td>\n",
       "      <td>1</td>\n",
       "      <td>12-Mar-12</td>\n",
       "      <td>MPD</td>\n",
       "      <td>38.922540</td>\n",
       "      <td>-77.072910</td>\n",
       "      <td>NaN</td>\n",
       "      <td>7692</td>\n",
       "      <td>NaN</td>\n",
       "      <td>NaN</td>\n",
       "      <td>11</td>\n",
       "    </tr>\n",
       "  </tbody>\n",
       "</table>\n",
       "<p>5 rows × 74 columns</p>\n",
       "</div>"
      ],
      "text/plain": [
       "   OBJECTID  COMPLAINTNUMBER ACCIDENTDATE  YEAR DATEENTERED  \\\n",
       "0      3607         11124907    26-Aug-11  2011    3-Sep-11   \n",
       "1      3609         14158068    14-Oct-14  2014   24-Dec-14   \n",
       "2      3610         10024826    26-Feb-10  2010    7-Jul-10   \n",
       "3      3611         10175486     4-Dec-10  2010    6-Dec-10   \n",
       "4      3612         11008198    19-Jan-11  2011   12-Mar-12   \n",
       "\n",
       "     MILITARYTIME_NEW  MILITARYTIME_CONVERT  MILITARYTIME  DAYOFWEEK  \\\n",
       "0 2016-10-16 16:45:00                  1645          1645     Friday   \n",
       "1 2016-10-16 09:01:00                   901           901    Tuesday   \n",
       "2 2016-10-16 21:46:00                  2146          2146     Friday   \n",
       "3 2016-10-16 22:01:00                  2201          2201   Saturday   \n",
       "4 2016-10-16 11:35:00                  1135          1135  Wednesday   \n",
       "\n",
       "  REPORTDATE          ...           REVISED_QUADRANT LASTUPDATE ENTEREDBY  \\\n",
       "0  26-Aug-11          ...                          1   3-Sep-11       MPD   \n",
       "1  14-Oct-14          ...                          1  24-Dec-14       MPD   \n",
       "2  26-Feb-10          ...                          1   7-Jul-10       MPD   \n",
       "3   5-Dec-10          ...                          1   6-Dec-10       MPD   \n",
       "4  19-Jan-11          ...                          1  12-Mar-12       MPD   \n",
       "\n",
       "    LATITUDE  LONGITUDE  IMPAIRMENT  STREETSEGID  TAXIINVOLVED  \\\n",
       "0  38.921179 -77.072361         NaN         7692           NaN   \n",
       "1  38.921179 -77.072361         NaN         7692           NaN   \n",
       "2  38.929162 -77.073143         NaN         6434           NaN   \n",
       "3  38.922540 -77.072910         NaN         7692           NaN   \n",
       "4  38.922540 -77.072910         NaN         7692           NaN   \n",
       "\n",
       "   TOURBUSINVOLVED  MILITARYTIME_NEW_HOUR  \n",
       "0              NaN                     16  \n",
       "1              NaN                      9  \n",
       "2              NaN                     21  \n",
       "3              NaN                     22  \n",
       "4              NaN                     11  \n",
       "\n",
       "[5 rows x 74 columns]"
      ]
     },
     "execution_count": 20,
     "metadata": {},
     "output_type": "execute_result"
    }
   ],
   "source": [
    "df.head()"
   ]
  },
  {
   "cell_type": "code",
   "execution_count": 23,
   "metadata": {
    "collapsed": false
   },
   "outputs": [
    {
     "data": {
      "text/plain": [
       "<matplotlib.axes._subplots.AxesSubplot at 0x11dd7fb00>"
      ]
     },
     "execution_count": 23,
     "metadata": {},
     "output_type": "execute_result"
    },
    {
     "data": {
      "image/png": "[encoded data removed]",
      "text/plain": [
       "<matplotlib.figure.Figure at 0x11f0330b8>"
      ]
     },
     "metadata": {},
     "output_type": "display_data"
    }
   ],
   "source": [
    "df['MILITARYTIME_NEW_HOUR'].value_counts().plot('Bar')"
   ]
  },
  {
   "cell_type": "code",
   "execution_count": null,
   "metadata": {
    "collapsed": false
   },
   "outputs": [],
   "source": [
    "df.head()"
   ]
  },
  {
   "cell_type": "code",
   "execution_count": 29,
   "metadata": {
    "collapsed": false
   },
   "outputs": [
    {
     "data": {
      "image/png": "[encoded data removed]",
      "text/plain": [
       "<matplotlib.figure.Figure at 0x11ad60198>"
      ]
     },
     "metadata": {},
     "output_type": "display_data"
    }
   ],
   "source": [
    "ax=sns.countplot(x='MILITARYTIME_NEW_HOUR',data=df)"
   ]
  },
  {
   "cell_type": "code",
   "execution_count": 28,
   "metadata": {
    "collapsed": false
   },
   "outputs": [
    {
     "data": {
      "image/png": "[encoded data removed]",
      "text/plain": [
       "<matplotlib.figure.Figure at 0x11ad25400>"
      ]
     },
     "metadata": {},
     "output_type": "display_data"
    }
   ],
   "source": [
    "ax=sns.countplot(x='MILITARYTIME_NEW_HOUR',data=df[df['DAYOFWEEK']=='Friday'])"
   ]
  },
  {
   "cell_type": "code",
   "execution_count": 30,
   "metadata": {
    "collapsed": false
   },
   "outputs": [
    {
     "data": {
      "image/png": "[encoded data removed]",
      "text/plain": [
       "<matplotlib.figure.Figure at 0x11e3dc2b0>"
      ]
     },
     "metadata": {},
     "output_type": "display_data"
    }
   ],
   "source": [
    "ax=sns.countplot(x='MILITARYTIME_NEW_HOUR',data=df[df['DAYOFWEEK']=='Thursday'])"
   ]
  },
  {
   "cell_type": "code",
   "execution_count": 31,
   "metadata": {
    "collapsed": false
   },
   "outputs": [
    {
     "data": {
      "image/png": "[encoded data removed]",
      "text/plain": [
       "<matplotlib.figure.Figure at 0x11b5778d0>"
      ]
     },
     "metadata": {},
     "output_type": "display_data"
    }
   ],
   "source": [
    "ax=sns.countplot(x='MILITARYTIME_NEW_HOUR',data=df[df['DAYOFWEEK']=='Monday'])"
   ]
  },
  {
   "cell_type": "code",
   "execution_count": 32,
   "metadata": {
    "collapsed": false
   },
   "outputs": [
    {
     "data": {
      "image/png": "[encoded data removed]",
      "text/plain": [
       "<matplotlib.figure.Figure at 0x11b50b358>"
      ]
     },
     "metadata": {},
     "output_type": "display_data"
    }
   ],
   "source": [
    "ax=sns.countplot(x='MILITARYTIME_NEW_HOUR',data=df[df['DAYOFWEEK']=='Tuesday'])"
   ]
  },
  {
   "cell_type": "code",
   "execution_count": 33,
   "metadata": {
    "collapsed": false
   },
   "outputs": [
    {
     "data": {
      "image/png": "[encoded data removed]",
      "text/plain": [
       "<matplotlib.figure.Figure at 0x11e6c6470>"
      ]
     },
     "metadata": {},
     "output_type": "display_data"
    }
   ],
   "source": [
    "ax=sns.countplot(x='MILITARYTIME_NEW_HOUR',data=df[df['DAYOFWEEK']=='Wednesday'])"
   ]
  },
  {
   "cell_type": "code",
   "execution_count": 34,
   "metadata": {
    "collapsed": false
   },
   "outputs": [
    {
     "data": {
      "image/png": "[encoded data removed]",
      "text/plain": [
       "<matplotlib.figure.Figure at 0x11a0c83c8>"
      ]
     },
     "metadata": {},
     "output_type": "display_data"
    }
   ],
   "source": [
    "ax=sns.countplot(x='MILITARYTIME_NEW_HOUR',data=df[df['DAYOFWEEK']=='Saturday'])"
   ]
  },
  {
   "cell_type": "code",
   "execution_count": 35,
   "metadata": {
    "collapsed": false
   },
   "outputs": [
    {
     "data": {
      "image/png": "[encoded data removed]",
      "text/plain": [
       "<matplotlib.figure.Figure at 0x11b2cb668>"
      ]
     },
     "metadata": {},
     "output_type": "display_data"
    }
   ],
   "source": [
    "ax=sns.countplot(x='MILITARYTIME_NEW_HOUR',data=df[df['DAYOFWEEK']=='Sunday'])"
   ]
  },
  {
   "cell_type": "code",
   "execution_count": 44,
   "metadata": {
    "collapsed": false
   },
   "outputs": [
    {
     "data": {
      "text/plain": [
       "0        2609\n",
       "14693     533\n",
       "12636     392\n",
       "369       378\n",
       "6364      354\n",
       "5504      213\n",
       "14688     194\n",
       "9529      193\n",
       "14746     170\n",
       "14707     165\n",
       "14747     156\n",
       "11171     155\n",
       "8195      155\n",
       "9802      154\n",
       "8124      147\n",
       "5011      140\n",
       "5435      132\n",
       "11236     132\n",
       "8491      124\n",
       "645       123\n",
       "12167     122\n",
       "10985     121\n",
       "2681      117\n",
       "9387      114\n",
       "164       114\n",
       "1416      111\n",
       "15360     110\n",
       "5024      109\n",
       "7156      108\n",
       "5265      108\n",
       "         ... \n",
       "37          1\n",
       "9589        1\n",
       "7602        1\n",
       "663         1\n",
       "12938       1\n",
       "11700       1\n",
       "8840        1\n",
       "5619        1\n",
       "1649        1\n",
       "10825       1\n",
       "2829        1\n",
       "13559       1\n",
       "12707       1\n",
       "4391        1\n",
       "4915        1\n",
       "11060       1\n",
       "9077        1\n",
       "13386       1\n",
       "11252       1\n",
       "3120        1\n",
       "7218        1\n",
       "5070        1\n",
       "13258       1\n",
       "12643       1\n",
       "3184        1\n",
       "1137        1\n",
       "3248        1\n",
       "10592       1\n",
       "3312        1\n",
       "3343        1\n",
       "Name: STREETSEGID, dtype: int64"
      ]
     },
     "execution_count": 44,
     "metadata": {},
     "output_type": "execute_result"
    }
   ],
   "source": [
    "df['STREETSEGID'].value_counts()"
   ]
  }
 ],
 "metadata": {
  "anaconda-cloud": {},
  "kernelspec": {
   "display_name": "Python [Root]",
   "language": "python",
   "name": "Python [Root]"
  },
  "language_info": {
   "codemirror_mode": {
    "name": "ipython",
    "version": 3
   },
   "file_extension": ".py",
   "mimetype": "text/x-python",
   "name": "python",
   "nbconvert_exporter": "python",
   "pygments_lexer": "ipython3",
   "version": "3.5.2"
  }
 },
 "nbformat": 4,
 "nbformat_minor": 0
}
